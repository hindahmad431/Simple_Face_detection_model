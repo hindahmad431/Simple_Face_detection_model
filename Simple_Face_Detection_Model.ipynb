{
 "cells": [
  {
   "cell_type": "markdown",
   "metadata": {},
   "source": [
    "# Simple Face Detection Using Open CV"
   ]
  },
  {
   "cell_type": "markdown",
   "metadata": {},
   "source": [
    "<img src=\"image1.png\">"
   ]
  },
  {
   "cell_type": "code",
   "execution_count": 26,
   "metadata": {},
   "outputs": [],
   "source": [
    "#Loading The required Libraries\n",
    "\n",
    "import cv2\n",
    "import os\n",
    "import numpy as np"
   ]
  },
  {
   "cell_type": "code",
   "execution_count": 30,
   "metadata": {},
   "outputs": [
    {
     "data": {
      "text/plain": [
       "-1"
      ]
     },
     "execution_count": 30,
     "metadata": {},
     "output_type": "execute_result"
    }
   ],
   "source": [
    "#loading the image\n",
    "image = cv2.imread(\"19.jpg\")\n",
    "\n",
    "\n",
    "#loading the pre-trained harrcascade face detection model.\n",
    "trained_face_data = cv2.CascadeClassifier(cv2.data.haarcascades + 'haarcascade_frontalface_default.xml')\n",
    "\n",
    "#converting the image to gray\n",
    "gray_img = cv2.cvtColor(image, cv2.COLOR_BGR2GRAY)\n",
    "\n",
    "#using the face detection model to find face coordinates\n",
    "face_coordinates = trained_face_data.detectMultiScale(gray_img, 1.1, 5)\n",
    "\n",
    "#Drawing a green rectangle around face coordinates\n",
    "for coordinate in face_coordinates:\n",
    "    \n",
    "    (x, y, w, h) = coordinate\n",
    "    \n",
    "    cv2.rectangle(image, (x, y), (x + w, y + h), (0, 255, 0), thickness=2)\n",
    "\n",
    "    \n",
    "#show the final image\n",
    "cv2.imshow('Image', image)\n",
    "\n",
    "cv2.waitKey(0)"
   ]
  }
 ],
 "metadata": {
  "kernelspec": {
   "display_name": "Python 3",
   "language": "python",
   "name": "python3"
  },
  "language_info": {
   "codemirror_mode": {
    "name": "ipython",
    "version": 3
   },
   "file_extension": ".py",
   "mimetype": "text/x-python",
   "name": "python",
   "nbconvert_exporter": "python",
   "pygments_lexer": "ipython3",
   "version": "3.7.6"
  }
 },
 "nbformat": 4,
 "nbformat_minor": 4
}
